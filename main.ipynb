{
  "nbformat": 4,
  "nbformat_minor": 0,
  "metadata": {
    "colab": {
      "name": "MNIST data classification using denoising autoencoder.ipynb",
      "version": "0.3.2",
      "provenance": []
    },
    "kernelspec": {
      "name": "python3",
      "display_name": "Python 3"
    },
    "accelerator": "GPU"
  },
  "cells": [
    {
      "metadata": {
        "id": "m5mLZUzGgjOS",
        "colab_type": "text"
      },
      "cell_type": "markdown",
      "source": [
        "# Denoising Autoencoders for MNIST classification"
      ]
    },
    {
      "metadata": {
        "id": "3BxNJnDLgqns",
        "colab_type": "code",
        "colab": {}
      },
      "cell_type": "code",
      "source": [
        "%matplotlib inline\n",
        "import torch\n",
        "from PIL import Image\n",
        "import matplotlib.pyplot as plt\n",
        "import numpy as np\n",
        "import torchvision\n",
        "import torchvision.transforms as transforms\n",
        "from torch.autograd import Variable\n",
        "from torch.autograd import Function\n",
        "import torch.nn as nn\n",
        "import torch.nn.functional as F\n",
        "import torch.optim as optim"
      ],
      "execution_count": 0,
      "outputs": []
    },
    {
      "metadata": {
        "id": "Tvrm1ZmwgwsX",
        "colab_type": "code",
        "colab": {}
      },
      "cell_type": "code",
      "source": [
        "transform = transforms.Compose([transforms.ToTensor()])\n",
        "BatchSize = 1000\n",
        "\n",
        "trainset = torchvision.datasets.MNIST(root='./MNIST', train=True,\n",
        "                                        download=True, transform=transform)\n",
        "trainloader = torch.utils.data.DataLoader(trainset, batch_size=BatchSize,\n",
        "                                          shuffle=True, num_workers=4) # Creating dataloader\n",
        "\n",
        "testset = torchvision.datasets.MNIST(root='./MNIST', train=False,\n",
        "                                       download=True, transform=transform)\n",
        "testloader = torch.utils.data.DataLoader(testset, batch_size=BatchSize,\n",
        "                                         shuffle=False, num_workers=4) # Creating dataloader\n",
        "\n",
        "classes = ('zero', 'one', 'two', 'three',\n",
        "           'four', 'five', 'six', 'seven', 'eight', 'nine')"
      ],
      "execution_count": 0,
      "outputs": []
    },
    {
      "metadata": {
        "id": "9p7K_MMdgwiW",
        "colab_type": "code",
        "colab": {
          "base_uri": "https://localhost:8080/",
          "height": 34
        },
        "outputId": "d04b422c-932d-4ff0-9dc4-6c536a57ceec"
      },
      "cell_type": "code",
      "source": [
        "# Check availability of GPU\n",
        "use_gpu = torch.cuda.is_available()\n",
        "if use_gpu:\n",
        "    print('GPU is available!')"
      ],
      "execution_count": 3,
      "outputs": [
        {
          "output_type": "stream",
          "text": [
            "GPU is available!\n"
          ],
          "name": "stdout"
        }
      ]
    },
    {
      "metadata": {
        "id": "F0mE4mrfg29A",
        "colab_type": "text"
      },
      "cell_type": "markdown",
      "source": [
        "## Define the Autoencoder:"
      ]
    },
    {
      "metadata": {
        "id": "IOA0cRVpg1my",
        "colab_type": "code",
        "colab": {}
      },
      "cell_type": "code",
      "source": [
        "class L1Penalty(Function):\n",
        "\n",
        "    @staticmethod\n",
        "    def forward(self, input, l1weight):\n",
        "        self.save_for_backward(input)\n",
        "        self.l1weight = l1weight\n",
        "        return input\n",
        "\n",
        "    @staticmethod\n",
        "    def backward(self, grad_output):\n",
        "        input, = self.saved_variables\n",
        "        grad_input = input.clone().sign().mul(self.l1weight)\n",
        "        grad_input += grad_output\n",
        "        return grad_input, None"
      ],
      "execution_count": 0,
      "outputs": []
    },
    {
      "metadata": {
        "id": "sPau33QYjKQh",
        "colab_type": "code",
        "colab": {
          "base_uri": "https://localhost:8080/",
          "height": 260
        },
        "outputId": "1005ef89-5dff-4c0d-ea00-e162a77aca3e"
      },
      "cell_type": "code",
      "source": [
        "class autoencoder(nn.Module):\n",
        "    def __init__(self):\n",
        "        super(autoencoder, self).__init__()\n",
        "        self.encoder = nn.Sequential(\n",
        "            nn.Linear(28*28, 400),\n",
        "            nn.ReLU(),\n",
        "            nn.Linear(400, 128),\n",
        "            nn.ReLU())\n",
        "        self.decoder = nn.Sequential(\n",
        "            nn.Linear(128,400),\n",
        "            nn.ReLU(),\n",
        "            nn.Linear(400,28*28),\n",
        "            nn.Sigmoid())\n",
        "\n",
        "    def forward(self, x):\n",
        "        x = self.encoder(x)\n",
        "       # x = L1Penalty.apply(x, 0.1) # Uncomment it to add 10% sparsity in the autoencoder\n",
        "        x = self.decoder(x)\n",
        "        return x\n",
        "\n",
        "\n",
        "net = autoencoder()\n",
        "print(net)\n",
        "\n",
        "if use_gpu:\n",
        "    net = net.double().cuda()\n",
        "else:\n",
        "    net = net.double()"
      ],
      "execution_count": 8,
      "outputs": [
        {
          "output_type": "stream",
          "text": [
            "autoencoder(\n",
            "  (encoder): Sequential(\n",
            "    (0): Linear(in_features=784, out_features=400, bias=True)\n",
            "    (1): ReLU()\n",
            "    (2): Linear(in_features=400, out_features=128, bias=True)\n",
            "    (3): ReLU()\n",
            "  )\n",
            "  (decoder): Sequential(\n",
            "    (0): Linear(in_features=128, out_features=400, bias=True)\n",
            "    (1): ReLU()\n",
            "    (2): Linear(in_features=400, out_features=784, bias=True)\n",
            "    (3): Sigmoid()\n",
            "  )\n",
            ")\n"
          ],
          "name": "stdout"
        }
      ]
    },
    {
      "metadata": {
        "id": "wlR163W1hGz4",
        "colab_type": "text"
      },
      "cell_type": "markdown",
      "source": [
        "## Train Autoencoder"
      ]
    },
    {
      "metadata": {
        "id": "7a_ZzBeShCL0",
        "colab_type": "code",
        "colab": {
          "base_uri": "https://localhost:8080/",
          "height": 903
        },
        "outputId": "b943094c-0e72-4631-88f3-daefbcf9f85d"
      },
      "cell_type": "code",
      "source": [
        "iterations = 50\n",
        "learning_rate = 1e-3\n",
        "noise_mean = 0.1\n",
        "noise_std = 0.2\n",
        "criterion = nn.MSELoss()\n",
        "optimizer = optim.Adam(net.parameters(), lr = learning_rate) # Adam optimizer for optimization\n",
        "for epoch in range(iterations):  # loop over the dataset multiple times\n",
        "\n",
        "    runningLoss = 0.0\n",
        "    for i, data in enumerate(trainloader, 0):\n",
        "        # get the inputs\n",
        "        inputs, labels = data\n",
        "        \n",
        "        # wrap them in Variable\n",
        "        if use_gpu:\n",
        "            ideal_outputs = Variable(inputs.view(-1, 28*28).double()).cuda()\n",
        "            # Noise\n",
        "            noise = Variable(ideal_outputs.data.new(ideal_outputs.size()).normal_(noise_mean, noise_std).double()).cuda()\n",
        "            # Adding Noise (Noisy Input)\n",
        "            inputs = Variable(torch.clamp((ideal_outputs + noise).data,0,1).double()).cuda()\n",
        "        else:\n",
        "            ideal_outputs = Variable(inputs.view(-1, 28*28).double())\n",
        "            noise = Variable(ideal_outputs.data.new(ideal_outputs.size()).normal_(noise_mean, noise_std).double())\n",
        "            inputs = Variable(torch.clamp((ideal_outputs + noise).data,0,1).double())\n",
        "\n",
        "        optimizer.zero_grad()  # zeroes the gradient buffers of all parameters\n",
        "        outputs = net(inputs) # forward \n",
        "        loss = criterion(outputs, ideal_outputs) # calculate loss\n",
        "        loss.backward() #  backpropagate the loss\n",
        "        optimizer.step()\n",
        "        runningLoss += loss.data\n",
        "    print('At Iteration : %d / %d  ;  Mean-Squared Error : %f'%(epoch + 1,iterations,\n",
        "                                                                        runningLoss/(60000/BatchSize)))\n",
        "print('Finished Training')"
      ],
      "execution_count": 9,
      "outputs": [
        {
          "output_type": "stream",
          "text": [
            "At Iteration : 1 / 50  ;  Mean-Squared Error : 0.088127\n",
            "At Iteration : 2 / 50  ;  Mean-Squared Error : 0.059990\n",
            "At Iteration : 3 / 50  ;  Mean-Squared Error : 0.044471\n",
            "At Iteration : 4 / 50  ;  Mean-Squared Error : 0.035104\n",
            "At Iteration : 5 / 50  ;  Mean-Squared Error : 0.029682\n",
            "At Iteration : 6 / 50  ;  Mean-Squared Error : 0.025729\n",
            "At Iteration : 7 / 50  ;  Mean-Squared Error : 0.023150\n",
            "At Iteration : 8 / 50  ;  Mean-Squared Error : 0.021022\n",
            "At Iteration : 9 / 50  ;  Mean-Squared Error : 0.019584\n",
            "At Iteration : 10 / 50  ;  Mean-Squared Error : 0.018237\n",
            "At Iteration : 11 / 50  ;  Mean-Squared Error : 0.017084\n",
            "At Iteration : 12 / 50  ;  Mean-Squared Error : 0.016200\n",
            "At Iteration : 13 / 50  ;  Mean-Squared Error : 0.015440\n",
            "At Iteration : 14 / 50  ;  Mean-Squared Error : 0.014751\n",
            "At Iteration : 15 / 50  ;  Mean-Squared Error : 0.014080\n",
            "At Iteration : 16 / 50  ;  Mean-Squared Error : 0.013492\n",
            "At Iteration : 17 / 50  ;  Mean-Squared Error : 0.013046\n",
            "At Iteration : 18 / 50  ;  Mean-Squared Error : 0.012619\n",
            "At Iteration : 19 / 50  ;  Mean-Squared Error : 0.012259\n",
            "At Iteration : 20 / 50  ;  Mean-Squared Error : 0.011909\n",
            "At Iteration : 21 / 50  ;  Mean-Squared Error : 0.011615\n",
            "At Iteration : 22 / 50  ;  Mean-Squared Error : 0.011317\n",
            "At Iteration : 23 / 50  ;  Mean-Squared Error : 0.011048\n",
            "At Iteration : 24 / 50  ;  Mean-Squared Error : 0.010846\n",
            "At Iteration : 25 / 50  ;  Mean-Squared Error : 0.010570\n",
            "At Iteration : 26 / 50  ;  Mean-Squared Error : 0.010377\n",
            "At Iteration : 27 / 50  ;  Mean-Squared Error : 0.010133\n",
            "At Iteration : 28 / 50  ;  Mean-Squared Error : 0.009921\n",
            "At Iteration : 29 / 50  ;  Mean-Squared Error : 0.009753\n",
            "At Iteration : 30 / 50  ;  Mean-Squared Error : 0.009547\n",
            "At Iteration : 31 / 50  ;  Mean-Squared Error : 0.009389\n",
            "At Iteration : 32 / 50  ;  Mean-Squared Error : 0.009270\n",
            "At Iteration : 33 / 50  ;  Mean-Squared Error : 0.009048\n",
            "At Iteration : 34 / 50  ;  Mean-Squared Error : 0.008922\n",
            "At Iteration : 35 / 50  ;  Mean-Squared Error : 0.008782\n",
            "At Iteration : 36 / 50  ;  Mean-Squared Error : 0.008733\n",
            "At Iteration : 37 / 50  ;  Mean-Squared Error : 0.008560\n",
            "At Iteration : 38 / 50  ;  Mean-Squared Error : 0.008413\n",
            "At Iteration : 39 / 50  ;  Mean-Squared Error : 0.008328\n",
            "At Iteration : 40 / 50  ;  Mean-Squared Error : 0.008238\n",
            "At Iteration : 41 / 50  ;  Mean-Squared Error : 0.008146\n",
            "At Iteration : 42 / 50  ;  Mean-Squared Error : 0.008032\n",
            "At Iteration : 43 / 50  ;  Mean-Squared Error : 0.007977\n",
            "At Iteration : 44 / 50  ;  Mean-Squared Error : 0.007860\n",
            "At Iteration : 45 / 50  ;  Mean-Squared Error : 0.007832\n",
            "At Iteration : 46 / 50  ;  Mean-Squared Error : 0.007764\n",
            "At Iteration : 47 / 50  ;  Mean-Squared Error : 0.007644\n",
            "At Iteration : 48 / 50  ;  Mean-Squared Error : 0.007618\n",
            "At Iteration : 49 / 50  ;  Mean-Squared Error : 0.007538\n",
            "At Iteration : 50 / 50  ;  Mean-Squared Error : 0.007450\n",
            "Finished Training\n"
          ],
          "name": "stdout"
        }
      ]
    },
    {
      "metadata": {
        "id": "pWQMxySHhRte",
        "colab_type": "text"
      },
      "cell_type": "markdown",
      "source": [
        "## Autoencoder Performance:"
      ]
    },
    {
      "metadata": {
        "id": "5LX7pnu1hTqC",
        "colab_type": "code",
        "colab": {
          "base_uri": "https://localhost:8080/",
          "height": 351
        },
        "outputId": "8e681248-9c3b-4f90-f92d-bd7275e077d7"
      },
      "cell_type": "code",
      "source": [
        "# functions to show an image\n",
        "def imshow(img, strlabel):\n",
        "    npimg = img.numpy()\n",
        "    npimg = np.abs(npimg)\n",
        "    fig_size = plt.rcParams[\"figure.figsize\"]\n",
        "    fig_size[0] = 10\n",
        "    fig_size[1] = 10\n",
        "    plt.rcParams[\"figure.figsize\"] = fig_size\n",
        "    plt.figure()\n",
        "    plt.title(strlabel)\n",
        "    plt.imshow(np.transpose(npimg, (1, 2, 0)))\n",
        "\n",
        "# get some random training images\n",
        "dataiter = iter(testloader)\n",
        "images, labels = dataiter.next()\n",
        "\n",
        "if use_gpu:\n",
        "    ideal_outputs = Variable(images[0].view(-1,28*28).double()).cuda()\n",
        "    noise = Variable(ideal_outputs.data.new(ideal_outputs.size()).normal_(noise_mean, noise_std).double()).cuda()\n",
        "    inputs = ideal_outputs + noise\n",
        "    outImg = net(inputs).data\n",
        "    outImg = outImg.view(-1,28,28).cpu()\n",
        "else:\n",
        "    ideal_outputs = Variable(images[0].view(-1,28*28).double())\n",
        "    noise = Variable(ideal_outputs.data.new(ideal_outputs.size()).normal_(noise_mean, noise_std).double())\n",
        "    inputs = ideal_outputs + noise\n",
        "    outImg = net(inputs).data\n",
        "    outImg = outImg.view(-1,28,28)\n",
        "\n",
        "dispImg = torch.Tensor(2,1,28,28)\n",
        "dispImg[0] = torch.clamp(inputs.data.view(-1,28,28).cpu(),0,1)\n",
        "dispImg[1] = outImg\n",
        "\n",
        "# show images\n",
        "imshow(torchvision.utils.make_grid(dispImg), 'Noisy Input                                              Denoised Output')"
      ],
      "execution_count": 10,
      "outputs": [
        {
          "output_type": "display_data",
          "data": {
            "image/png": "[encoded data removed]",
            "text/plain": [
              "<Figure size 720x720 with 1 Axes>"
            ]
          },
          "metadata": {
            "tags": []
          }
        }
      ]
    },
    {
      "metadata": {
        "id": "rSp3EgFEhoTy",
        "colab_type": "text"
      },
      "cell_type": "markdown",
      "source": [
        "## Modifying the autoencoder for classification:"
      ]
    },
    {
      "metadata": {
        "id": "91ZWOhruhp3G",
        "colab_type": "code",
        "colab": {
          "base_uri": "https://localhost:8080/",
          "height": 260
        },
        "outputId": "8c71d880-b1cc-4136-d0c8-2dddb9a5d44c"
      },
      "cell_type": "code",
      "source": [
        "# Removing the decoder module from the autoencoder\n",
        "new_classifier = nn.Sequential(*list(net.children())[:-1])\n",
        "net = new_classifier\n",
        "# Adding linear layer for 10-class classification problem\n",
        "net.add_module('classifier', nn.Sequential(nn.Linear(128, 64),nn.ReLU(),\n",
        "                                          nn.Linear(64, 10),nn.LogSoftmax()))\n",
        "print(net)\n",
        "if use_gpu:\n",
        "    net = net.double().cuda()\n",
        "else:\n",
        "    net = net.double()"
      ],
      "execution_count": 12,
      "outputs": [
        {
          "output_type": "stream",
          "text": [
            "Sequential(\n",
            "  (0): Sequential(\n",
            "    (0): Linear(in_features=784, out_features=400, bias=True)\n",
            "    (1): ReLU()\n",
            "    (2): Linear(in_features=400, out_features=128, bias=True)\n",
            "    (3): ReLU()\n",
            "  )\n",
            "  (classifier): Sequential(\n",
            "    (0): Linear(in_features=128, out_features=64, bias=True)\n",
            "    (1): ReLU()\n",
            "    (2): Linear(in_features=64, out_features=10, bias=True)\n",
            "    (3): LogSoftmax()\n",
            "  )\n",
            ")\n"
          ],
          "name": "stdout"
        }
      ]
    },
    {
      "metadata": {
        "id": "mIr_qZLlhwHh",
        "colab_type": "text"
      },
      "cell_type": "markdown",
      "source": [
        "## Train Classifier"
      ]
    },
    {
      "metadata": {
        "id": "_b7YVOPXhsI3",
        "colab_type": "code",
        "colab": {
          "base_uri": "https://localhost:8080/",
          "height": 141
        },
        "outputId": "4ce0b80c-2489-44f3-a037-59aa3159b927"
      },
      "cell_type": "code",
      "source": [
        "iterations = 50\n",
        "learning_rate = 0.1\n",
        "criterion = nn.NLLLoss()\n",
        "\n",
        "for epoch in range(iterations):  # loop over the dataset multiple times\n",
        "\n",
        "    runningLoss = 0.0\n",
        "    for i, data in enumerate(trainloader, 0):\n",
        "        # get the inputs\n",
        "        inputs, labels = data\n",
        "        \n",
        "        # wrap them in Variable\n",
        "        if use_gpu:\n",
        "            inputs, labels = Variable(inputs.view(-1, 28*28).double()).cuda(), Variable(labels).cuda()\n",
        "        else:\n",
        "            inputs, labels = Variable(inputs.view(-1, 28*28).double()), Variable(labels)\n",
        "\n",
        "        net.zero_grad()  # zeroes the gradient buffers of all parameters\n",
        "        outputs = net(inputs) # forward \n",
        "        loss = criterion(outputs, labels) # calculate loss\n",
        "        loss.backward() #  backpropagate the loss\n",
        "        for f in net.parameters():\n",
        "            f.data.sub_(f.grad.data * learning_rate) # weight = weight - learning_rate * gradient (Update Weights)\n",
        "        runningLoss += loss.data\n",
        "        correct = 0\n",
        "        total = 0\n",
        "    for data in testloader:\n",
        "        inputs, labels = data\n",
        "        if use_gpu:\n",
        "            inputs, labels = Variable(inputs.view(-1, 28*28).double()).cuda(), labels.cuda()\n",
        "        else:\n",
        "            inputs, labels = Variable(inputs.view(-1, 28*28).double()), labels\n",
        "        outputs = net(inputs)\n",
        "        _, predicted = torch.max(outputs.data, 1)\n",
        "        total += labels.size(0)\n",
        "        correct += (predicted == labels).sum()\n",
        "    print('At Iteration : %d / %d  ;  Train Error : %f ;Test Accuracy : %f'%(epoch + 1,iterations,\n",
        "                                                                        runningLoss/(60000/BatchSize),100 *(float(correct) /float(total))))\n",
        "print('Finished Training')"
      ],
      "execution_count": 15,
      "outputs": [
        {
          "output_type": "stream",
          "text": [
            "/usr/local/lib/python3.6/dist-packages/torch/nn/modules/container.py:92: UserWarning: Implicit dimension choice for log_softmax has been deprecated. Change the call to include dim=X as an argument.\n",
            "  input = module(input)\n"
          ],
          "name": "stderr"
        },
        {
          "output_type": "stream",
          "text": [
            "At Iteration : 1 / 3  ;  Train Error : 0.059053 ;Test Accuracy : 97.400000\n",
            "At Iteration : 2 / 3  ;  Train Error : 0.058105 ;Test Accuracy : 97.390000\n",
            "At Iteration : 3 / 3  ;  Train Error : 0.057216 ;Test Accuracy : 97.460000\n",
            "Finished Training\n"
          ],
          "name": "stdout"
        }
      ]
    }
  ]
}